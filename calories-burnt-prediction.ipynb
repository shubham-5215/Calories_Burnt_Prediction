{
 "cells": [
  {
   "cell_type": "code",
   "execution_count": 1,
   "id": "3e4b2b4c",
   "metadata": {
    "_cell_guid": "b1076dfc-b9ad-4769-8c92-a6c4dae69d19",
    "_uuid": "8f2839f25d086af736a60e9eeb907d3b93b6e0e5",
    "execution": {
     "iopub.execute_input": "2021-08-21T11:14:41.375603Z",
     "iopub.status.busy": "2021-08-21T11:14:41.375027Z",
     "iopub.status.idle": "2021-08-21T11:14:41.388388Z",
     "shell.execute_reply": "2021-08-21T11:14:41.389092Z",
     "shell.execute_reply.started": "2021-08-21T11:13:07.774861Z"
    },
    "papermill": {
     "duration": 0.049202,
     "end_time": "2021-08-21T11:14:41.389475",
     "exception": false,
     "start_time": "2021-08-21T11:14:41.340273",
     "status": "completed"
    },
    "tags": []
   },
   "outputs": [
    {
     "name": "stdout",
     "output_type": "stream",
     "text": [
      "/kaggle/input/fmendesdat263xdemos/exercise.csv\n",
      "/kaggle/input/fmendesdat263xdemos/calories.csv\n"
     ]
    }
   ],
   "source": [
    "# This Python 3 environment comes with many helpful analytics libraries installed\n",
    "# It is defined by the kaggle/python Docker image: https://github.com/kaggle/docker-python\n",
    "# For example, here's several helpful packages to load\n",
    "\n",
    "import numpy as np # linear algebra\n",
    "import pandas as pd # data processing, CSV file I/O (e.g. pd.read_csv)\n",
    "\n",
    "# Input data files are available in the read-only \"../input/\" directory\n",
    "# For example, running this (by clicking run or pressing Shift+Enter) will list all files under the input directory\n",
    "\n",
    "import os\n",
    "for dirname, _, filenames in os.walk('/kaggle/input'):\n",
    "    for filename in filenames:\n",
    "        print(os.path.join(dirname, filename))\n",
    "\n",
    "# You can write up to 20GB to the current directory (/kaggle/working/) that gets preserved as output when you create a version using \"Save & Run All\" \n",
    "# You can also write temporary files to /kaggle/temp/, but they won't be saved outside of the current session"
   ]
  },
  {
   "cell_type": "code",
   "execution_count": 2,
   "id": "01f04b6c",
   "metadata": {
    "execution": {
     "iopub.execute_input": "2021-08-21T11:14:41.442840Z",
     "iopub.status.busy": "2021-08-21T11:14:41.442125Z",
     "iopub.status.idle": "2021-08-21T11:14:42.642980Z",
     "shell.execute_reply": "2021-08-21T11:14:42.642331Z",
     "shell.execute_reply.started": "2021-08-21T11:13:07.874510Z"
    },
    "papermill": {
     "duration": 1.228935,
     "end_time": "2021-08-21T11:14:42.643119",
     "exception": false,
     "start_time": "2021-08-21T11:14:41.414184",
     "status": "completed"
    },
    "tags": []
   },
   "outputs": [],
   "source": [
    "import matplotlib.pyplot as plt\n",
    "import seaborn as sns\n",
    "from sklearn.model_selection import train_test_split\n",
    "from sklearn.linear_model import LinearRegression\n",
    "from sklearn.tree import DecisionTreeRegressor\n",
    "from sklearn.ensemble import RandomForestRegressor\n",
    "from sklearn import metrics"
   ]
  },
  {
   "cell_type": "code",
   "execution_count": 3,
   "id": "c85e64b3",
   "metadata": {
    "execution": {
     "iopub.execute_input": "2021-08-21T11:14:42.696493Z",
     "iopub.status.busy": "2021-08-21T11:14:42.695854Z",
     "iopub.status.idle": "2021-08-21T11:14:42.745787Z",
     "shell.execute_reply": "2021-08-21T11:14:42.745195Z",
     "shell.execute_reply.started": "2021-08-21T11:13:07.949589Z"
    },
    "papermill": {
     "duration": 0.077796,
     "end_time": "2021-08-21T11:14:42.745932",
     "exception": false,
     "start_time": "2021-08-21T11:14:42.668136",
     "status": "completed"
    },
    "tags": []
   },
   "outputs": [],
   "source": [
    "calories = pd.read_csv('../input/fmendesdat263xdemos/calories.csv')\n",
    "exercise = pd.read_csv('../input/fmendesdat263xdemos/exercise.csv')"
   ]
  },
  {
   "cell_type": "code",
   "execution_count": 4,
   "id": "3bf7f821",
   "metadata": {
    "execution": {
     "iopub.execute_input": "2021-08-21T11:14:42.797070Z",
     "iopub.status.busy": "2021-08-21T11:14:42.796178Z",
     "iopub.status.idle": "2021-08-21T11:14:42.821606Z",
     "shell.execute_reply": "2021-08-21T11:14:42.822097Z",
     "shell.execute_reply.started": "2021-08-21T11:13:08.020540Z"
    },
    "papermill": {
     "duration": 0.052407,
     "end_time": "2021-08-21T11:14:42.822266",
     "exception": false,
     "start_time": "2021-08-21T11:14:42.769859",
     "status": "completed"
    },
    "tags": []
   },
   "outputs": [
    {
     "data": {
      "text/html": [
       "<div>\n",
       "<style scoped>\n",
       "    .dataframe tbody tr th:only-of-type {\n",
       "        vertical-align: middle;\n",
       "    }\n",
       "\n",
       "    .dataframe tbody tr th {\n",
       "        vertical-align: top;\n",
       "    }\n",
       "\n",
       "    .dataframe thead th {\n",
       "        text-align: right;\n",
       "    }\n",
       "</style>\n",
       "<table border=\"1\" class=\"dataframe\">\n",
       "  <thead>\n",
       "    <tr style=\"text-align: right;\">\n",
       "      <th></th>\n",
       "      <th>User_ID</th>\n",
       "      <th>Calories</th>\n",
       "    </tr>\n",
       "  </thead>\n",
       "  <tbody>\n",
       "    <tr>\n",
       "      <th>0</th>\n",
       "      <td>14733363</td>\n",
       "      <td>231.0</td>\n",
       "    </tr>\n",
       "    <tr>\n",
       "      <th>1</th>\n",
       "      <td>14861698</td>\n",
       "      <td>66.0</td>\n",
       "    </tr>\n",
       "    <tr>\n",
       "      <th>2</th>\n",
       "      <td>11179863</td>\n",
       "      <td>26.0</td>\n",
       "    </tr>\n",
       "    <tr>\n",
       "      <th>3</th>\n",
       "      <td>16180408</td>\n",
       "      <td>71.0</td>\n",
       "    </tr>\n",
       "    <tr>\n",
       "      <th>4</th>\n",
       "      <td>17771927</td>\n",
       "      <td>35.0</td>\n",
       "    </tr>\n",
       "    <tr>\n",
       "      <th>...</th>\n",
       "      <td>...</td>\n",
       "      <td>...</td>\n",
       "    </tr>\n",
       "    <tr>\n",
       "      <th>14995</th>\n",
       "      <td>15644082</td>\n",
       "      <td>45.0</td>\n",
       "    </tr>\n",
       "    <tr>\n",
       "      <th>14996</th>\n",
       "      <td>17212577</td>\n",
       "      <td>23.0</td>\n",
       "    </tr>\n",
       "    <tr>\n",
       "      <th>14997</th>\n",
       "      <td>17271188</td>\n",
       "      <td>75.0</td>\n",
       "    </tr>\n",
       "    <tr>\n",
       "      <th>14998</th>\n",
       "      <td>18643037</td>\n",
       "      <td>11.0</td>\n",
       "    </tr>\n",
       "    <tr>\n",
       "      <th>14999</th>\n",
       "      <td>11751526</td>\n",
       "      <td>98.0</td>\n",
       "    </tr>\n",
       "  </tbody>\n",
       "</table>\n",
       "<p>15000 rows × 2 columns</p>\n",
       "</div>"
      ],
      "text/plain": [
       "        User_ID  Calories\n",
       "0      14733363     231.0\n",
       "1      14861698      66.0\n",
       "2      11179863      26.0\n",
       "3      16180408      71.0\n",
       "4      17771927      35.0\n",
       "...         ...       ...\n",
       "14995  15644082      45.0\n",
       "14996  17212577      23.0\n",
       "14997  17271188      75.0\n",
       "14998  18643037      11.0\n",
       "14999  11751526      98.0\n",
       "\n",
       "[15000 rows x 2 columns]"
      ]
     },
     "execution_count": 4,
     "metadata": {},
     "output_type": "execute_result"
    }
   ],
   "source": [
    "calories"
   ]
  },
  {
   "cell_type": "code",
   "execution_count": 5,
   "id": "5d4537bf",
   "metadata": {
    "execution": {
     "iopub.execute_input": "2021-08-21T11:14:42.891456Z",
     "iopub.status.busy": "2021-08-21T11:14:42.890520Z",
     "iopub.status.idle": "2021-08-21T11:14:42.894735Z",
     "shell.execute_reply": "2021-08-21T11:14:42.894241Z",
     "shell.execute_reply.started": "2021-08-21T11:13:08.119529Z"
    },
    "papermill": {
     "duration": 0.047715,
     "end_time": "2021-08-21T11:14:42.894866",
     "exception": false,
     "start_time": "2021-08-21T11:14:42.847151",
     "status": "completed"
    },
    "tags": []
   },
   "outputs": [
    {
     "data": {
      "text/html": [
       "<div>\n",
       "<style scoped>\n",
       "    .dataframe tbody tr th:only-of-type {\n",
       "        vertical-align: middle;\n",
       "    }\n",
       "\n",
       "    .dataframe tbody tr th {\n",
       "        vertical-align: top;\n",
       "    }\n",
       "\n",
       "    .dataframe thead th {\n",
       "        text-align: right;\n",
       "    }\n",
       "</style>\n",
       "<table border=\"1\" class=\"dataframe\">\n",
       "  <thead>\n",
       "    <tr style=\"text-align: right;\">\n",
       "      <th></th>\n",
       "      <th>User_ID</th>\n",
       "      <th>Gender</th>\n",
       "      <th>Age</th>\n",
       "      <th>Height</th>\n",
       "      <th>Weight</th>\n",
       "      <th>Duration</th>\n",
       "      <th>Heart_Rate</th>\n",
       "      <th>Body_Temp</th>\n",
       "    </tr>\n",
       "  </thead>\n",
       "  <tbody>\n",
       "    <tr>\n",
       "      <th>0</th>\n",
       "      <td>14733363</td>\n",
       "      <td>male</td>\n",
       "      <td>68</td>\n",
       "      <td>190.0</td>\n",
       "      <td>94.0</td>\n",
       "      <td>29.0</td>\n",
       "      <td>105.0</td>\n",
       "      <td>40.8</td>\n",
       "    </tr>\n",
       "    <tr>\n",
       "      <th>1</th>\n",
       "      <td>14861698</td>\n",
       "      <td>female</td>\n",
       "      <td>20</td>\n",
       "      <td>166.0</td>\n",
       "      <td>60.0</td>\n",
       "      <td>14.0</td>\n",
       "      <td>94.0</td>\n",
       "      <td>40.3</td>\n",
       "    </tr>\n",
       "    <tr>\n",
       "      <th>2</th>\n",
       "      <td>11179863</td>\n",
       "      <td>male</td>\n",
       "      <td>69</td>\n",
       "      <td>179.0</td>\n",
       "      <td>79.0</td>\n",
       "      <td>5.0</td>\n",
       "      <td>88.0</td>\n",
       "      <td>38.7</td>\n",
       "    </tr>\n",
       "    <tr>\n",
       "      <th>3</th>\n",
       "      <td>16180408</td>\n",
       "      <td>female</td>\n",
       "      <td>34</td>\n",
       "      <td>179.0</td>\n",
       "      <td>71.0</td>\n",
       "      <td>13.0</td>\n",
       "      <td>100.0</td>\n",
       "      <td>40.5</td>\n",
       "    </tr>\n",
       "    <tr>\n",
       "      <th>4</th>\n",
       "      <td>17771927</td>\n",
       "      <td>female</td>\n",
       "      <td>27</td>\n",
       "      <td>154.0</td>\n",
       "      <td>58.0</td>\n",
       "      <td>10.0</td>\n",
       "      <td>81.0</td>\n",
       "      <td>39.8</td>\n",
       "    </tr>\n",
       "    <tr>\n",
       "      <th>...</th>\n",
       "      <td>...</td>\n",
       "      <td>...</td>\n",
       "      <td>...</td>\n",
       "      <td>...</td>\n",
       "      <td>...</td>\n",
       "      <td>...</td>\n",
       "      <td>...</td>\n",
       "      <td>...</td>\n",
       "    </tr>\n",
       "    <tr>\n",
       "      <th>14995</th>\n",
       "      <td>15644082</td>\n",
       "      <td>female</td>\n",
       "      <td>20</td>\n",
       "      <td>193.0</td>\n",
       "      <td>86.0</td>\n",
       "      <td>11.0</td>\n",
       "      <td>92.0</td>\n",
       "      <td>40.4</td>\n",
       "    </tr>\n",
       "    <tr>\n",
       "      <th>14996</th>\n",
       "      <td>17212577</td>\n",
       "      <td>female</td>\n",
       "      <td>27</td>\n",
       "      <td>165.0</td>\n",
       "      <td>65.0</td>\n",
       "      <td>6.0</td>\n",
       "      <td>85.0</td>\n",
       "      <td>39.2</td>\n",
       "    </tr>\n",
       "    <tr>\n",
       "      <th>14997</th>\n",
       "      <td>17271188</td>\n",
       "      <td>female</td>\n",
       "      <td>43</td>\n",
       "      <td>159.0</td>\n",
       "      <td>58.0</td>\n",
       "      <td>16.0</td>\n",
       "      <td>90.0</td>\n",
       "      <td>40.1</td>\n",
       "    </tr>\n",
       "    <tr>\n",
       "      <th>14998</th>\n",
       "      <td>18643037</td>\n",
       "      <td>male</td>\n",
       "      <td>78</td>\n",
       "      <td>193.0</td>\n",
       "      <td>97.0</td>\n",
       "      <td>2.0</td>\n",
       "      <td>84.0</td>\n",
       "      <td>38.3</td>\n",
       "    </tr>\n",
       "    <tr>\n",
       "      <th>14999</th>\n",
       "      <td>11751526</td>\n",
       "      <td>male</td>\n",
       "      <td>63</td>\n",
       "      <td>173.0</td>\n",
       "      <td>79.0</td>\n",
       "      <td>18.0</td>\n",
       "      <td>92.0</td>\n",
       "      <td>40.5</td>\n",
       "    </tr>\n",
       "  </tbody>\n",
       "</table>\n",
       "<p>15000 rows × 8 columns</p>\n",
       "</div>"
      ],
      "text/plain": [
       "        User_ID  Gender  Age  Height  Weight  Duration  Heart_Rate  Body_Temp\n",
       "0      14733363    male   68   190.0    94.0      29.0       105.0       40.8\n",
       "1      14861698  female   20   166.0    60.0      14.0        94.0       40.3\n",
       "2      11179863    male   69   179.0    79.0       5.0        88.0       38.7\n",
       "3      16180408  female   34   179.0    71.0      13.0       100.0       40.5\n",
       "4      17771927  female   27   154.0    58.0      10.0        81.0       39.8\n",
       "...         ...     ...  ...     ...     ...       ...         ...        ...\n",
       "14995  15644082  female   20   193.0    86.0      11.0        92.0       40.4\n",
       "14996  17212577  female   27   165.0    65.0       6.0        85.0       39.2\n",
       "14997  17271188  female   43   159.0    58.0      16.0        90.0       40.1\n",
       "14998  18643037    male   78   193.0    97.0       2.0        84.0       38.3\n",
       "14999  11751526    male   63   173.0    79.0      18.0        92.0       40.5\n",
       "\n",
       "[15000 rows x 8 columns]"
      ]
     },
     "execution_count": 5,
     "metadata": {},
     "output_type": "execute_result"
    }
   ],
   "source": [
    "exercise"
   ]
  },
  {
   "cell_type": "code",
   "execution_count": 6,
   "id": "9a5b26c9",
   "metadata": {
    "execution": {
     "iopub.execute_input": "2021-08-21T11:14:42.953271Z",
     "iopub.status.busy": "2021-08-21T11:14:42.952671Z",
     "iopub.status.idle": "2021-08-21T11:14:42.974115Z",
     "shell.execute_reply": "2021-08-21T11:14:42.973639Z",
     "shell.execute_reply.started": "2021-08-21T11:13:08.214669Z"
    },
    "papermill": {
     "duration": 0.053477,
     "end_time": "2021-08-21T11:14:42.974255",
     "exception": false,
     "start_time": "2021-08-21T11:14:42.920778",
     "status": "completed"
    },
    "tags": []
   },
   "outputs": [
    {
     "data": {
      "text/html": [
       "<div>\n",
       "<style scoped>\n",
       "    .dataframe tbody tr th:only-of-type {\n",
       "        vertical-align: middle;\n",
       "    }\n",
       "\n",
       "    .dataframe tbody tr th {\n",
       "        vertical-align: top;\n",
       "    }\n",
       "\n",
       "    .dataframe thead th {\n",
       "        text-align: right;\n",
       "    }\n",
       "</style>\n",
       "<table border=\"1\" class=\"dataframe\">\n",
       "  <thead>\n",
       "    <tr style=\"text-align: right;\">\n",
       "      <th></th>\n",
       "      <th>User_ID</th>\n",
       "      <th>Gender</th>\n",
       "      <th>Age</th>\n",
       "      <th>Height</th>\n",
       "      <th>Weight</th>\n",
       "      <th>Duration</th>\n",
       "      <th>Heart_Rate</th>\n",
       "      <th>Body_Temp</th>\n",
       "      <th>Calories</th>\n",
       "    </tr>\n",
       "  </thead>\n",
       "  <tbody>\n",
       "    <tr>\n",
       "      <th>0</th>\n",
       "      <td>14733363</td>\n",
       "      <td>male</td>\n",
       "      <td>68</td>\n",
       "      <td>190.0</td>\n",
       "      <td>94.0</td>\n",
       "      <td>29.0</td>\n",
       "      <td>105.0</td>\n",
       "      <td>40.8</td>\n",
       "      <td>231.0</td>\n",
       "    </tr>\n",
       "    <tr>\n",
       "      <th>1</th>\n",
       "      <td>14861698</td>\n",
       "      <td>female</td>\n",
       "      <td>20</td>\n",
       "      <td>166.0</td>\n",
       "      <td>60.0</td>\n",
       "      <td>14.0</td>\n",
       "      <td>94.0</td>\n",
       "      <td>40.3</td>\n",
       "      <td>66.0</td>\n",
       "    </tr>\n",
       "    <tr>\n",
       "      <th>2</th>\n",
       "      <td>11179863</td>\n",
       "      <td>male</td>\n",
       "      <td>69</td>\n",
       "      <td>179.0</td>\n",
       "      <td>79.0</td>\n",
       "      <td>5.0</td>\n",
       "      <td>88.0</td>\n",
       "      <td>38.7</td>\n",
       "      <td>26.0</td>\n",
       "    </tr>\n",
       "    <tr>\n",
       "      <th>3</th>\n",
       "      <td>16180408</td>\n",
       "      <td>female</td>\n",
       "      <td>34</td>\n",
       "      <td>179.0</td>\n",
       "      <td>71.0</td>\n",
       "      <td>13.0</td>\n",
       "      <td>100.0</td>\n",
       "      <td>40.5</td>\n",
       "      <td>71.0</td>\n",
       "    </tr>\n",
       "    <tr>\n",
       "      <th>4</th>\n",
       "      <td>17771927</td>\n",
       "      <td>female</td>\n",
       "      <td>27</td>\n",
       "      <td>154.0</td>\n",
       "      <td>58.0</td>\n",
       "      <td>10.0</td>\n",
       "      <td>81.0</td>\n",
       "      <td>39.8</td>\n",
       "      <td>35.0</td>\n",
       "    </tr>\n",
       "    <tr>\n",
       "      <th>...</th>\n",
       "      <td>...</td>\n",
       "      <td>...</td>\n",
       "      <td>...</td>\n",
       "      <td>...</td>\n",
       "      <td>...</td>\n",
       "      <td>...</td>\n",
       "      <td>...</td>\n",
       "      <td>...</td>\n",
       "      <td>...</td>\n",
       "    </tr>\n",
       "    <tr>\n",
       "      <th>14995</th>\n",
       "      <td>15644082</td>\n",
       "      <td>female</td>\n",
       "      <td>20</td>\n",
       "      <td>193.0</td>\n",
       "      <td>86.0</td>\n",
       "      <td>11.0</td>\n",
       "      <td>92.0</td>\n",
       "      <td>40.4</td>\n",
       "      <td>45.0</td>\n",
       "    </tr>\n",
       "    <tr>\n",
       "      <th>14996</th>\n",
       "      <td>17212577</td>\n",
       "      <td>female</td>\n",
       "      <td>27</td>\n",
       "      <td>165.0</td>\n",
       "      <td>65.0</td>\n",
       "      <td>6.0</td>\n",
       "      <td>85.0</td>\n",
       "      <td>39.2</td>\n",
       "      <td>23.0</td>\n",
       "    </tr>\n",
       "    <tr>\n",
       "      <th>14997</th>\n",
       "      <td>17271188</td>\n",
       "      <td>female</td>\n",
       "      <td>43</td>\n",
       "      <td>159.0</td>\n",
       "      <td>58.0</td>\n",
       "      <td>16.0</td>\n",
       "      <td>90.0</td>\n",
       "      <td>40.1</td>\n",
       "      <td>75.0</td>\n",
       "    </tr>\n",
       "    <tr>\n",
       "      <th>14998</th>\n",
       "      <td>18643037</td>\n",
       "      <td>male</td>\n",
       "      <td>78</td>\n",
       "      <td>193.0</td>\n",
       "      <td>97.0</td>\n",
       "      <td>2.0</td>\n",
       "      <td>84.0</td>\n",
       "      <td>38.3</td>\n",
       "      <td>11.0</td>\n",
       "    </tr>\n",
       "    <tr>\n",
       "      <th>14999</th>\n",
       "      <td>11751526</td>\n",
       "      <td>male</td>\n",
       "      <td>63</td>\n",
       "      <td>173.0</td>\n",
       "      <td>79.0</td>\n",
       "      <td>18.0</td>\n",
       "      <td>92.0</td>\n",
       "      <td>40.5</td>\n",
       "      <td>98.0</td>\n",
       "    </tr>\n",
       "  </tbody>\n",
       "</table>\n",
       "<p>15000 rows × 9 columns</p>\n",
       "</div>"
      ],
      "text/plain": [
       "        User_ID  Gender  Age  Height  Weight  Duration  Heart_Rate  Body_Temp  \\\n",
       "0      14733363    male   68   190.0    94.0      29.0       105.0       40.8   \n",
       "1      14861698  female   20   166.0    60.0      14.0        94.0       40.3   \n",
       "2      11179863    male   69   179.0    79.0       5.0        88.0       38.7   \n",
       "3      16180408  female   34   179.0    71.0      13.0       100.0       40.5   \n",
       "4      17771927  female   27   154.0    58.0      10.0        81.0       39.8   \n",
       "...         ...     ...  ...     ...     ...       ...         ...        ...   \n",
       "14995  15644082  female   20   193.0    86.0      11.0        92.0       40.4   \n",
       "14996  17212577  female   27   165.0    65.0       6.0        85.0       39.2   \n",
       "14997  17271188  female   43   159.0    58.0      16.0        90.0       40.1   \n",
       "14998  18643037    male   78   193.0    97.0       2.0        84.0       38.3   \n",
       "14999  11751526    male   63   173.0    79.0      18.0        92.0       40.5   \n",
       "\n",
       "       Calories  \n",
       "0         231.0  \n",
       "1          66.0  \n",
       "2          26.0  \n",
       "3          71.0  \n",
       "4          35.0  \n",
       "...         ...  \n",
       "14995      45.0  \n",
       "14996      23.0  \n",
       "14997      75.0  \n",
       "14998      11.0  \n",
       "14999      98.0  \n",
       "\n",
       "[15000 rows x 9 columns]"
      ]
     },
     "execution_count": 6,
     "metadata": {},
     "output_type": "execute_result"
    }
   ],
   "source": [
    "data = pd.concat([exercise,calories.Calories],axis=1)\n",
    "data"
   ]
  },
  {
   "cell_type": "code",
   "execution_count": 7,
   "id": "ef788128",
   "metadata": {
    "execution": {
     "iopub.execute_input": "2021-08-21T11:14:43.032829Z",
     "iopub.status.busy": "2021-08-21T11:14:43.031878Z",
     "iopub.status.idle": "2021-08-21T11:14:43.047908Z",
     "shell.execute_reply": "2021-08-21T11:14:43.047387Z",
     "shell.execute_reply.started": "2021-08-21T11:13:08.269520Z"
    },
    "papermill": {
     "duration": 0.047856,
     "end_time": "2021-08-21T11:14:43.048050",
     "exception": false,
     "start_time": "2021-08-21T11:14:43.000194",
     "status": "completed"
    },
    "tags": []
   },
   "outputs": [
    {
     "name": "stdout",
     "output_type": "stream",
     "text": [
      "<class 'pandas.core.frame.DataFrame'>\n",
      "RangeIndex: 15000 entries, 0 to 14999\n",
      "Data columns (total 9 columns):\n",
      " #   Column      Non-Null Count  Dtype  \n",
      "---  ------      --------------  -----  \n",
      " 0   User_ID     15000 non-null  int64  \n",
      " 1   Gender      15000 non-null  object \n",
      " 2   Age         15000 non-null  int64  \n",
      " 3   Height      15000 non-null  float64\n",
      " 4   Weight      15000 non-null  float64\n",
      " 5   Duration    15000 non-null  float64\n",
      " 6   Heart_Rate  15000 non-null  float64\n",
      " 7   Body_Temp   15000 non-null  float64\n",
      " 8   Calories    15000 non-null  float64\n",
      "dtypes: float64(6), int64(2), object(1)\n",
      "memory usage: 1.0+ MB\n"
     ]
    }
   ],
   "source": [
    "data.info()"
   ]
  },
  {
   "cell_type": "code",
   "execution_count": 8,
   "id": "2966927f",
   "metadata": {
    "execution": {
     "iopub.execute_input": "2021-08-21T11:14:43.107520Z",
     "iopub.status.busy": "2021-08-21T11:14:43.104846Z",
     "iopub.status.idle": "2021-08-21T11:14:43.151926Z",
     "shell.execute_reply": "2021-08-21T11:14:43.151143Z",
     "shell.execute_reply.started": "2021-08-21T11:13:08.329508Z"
    },
    "papermill": {
     "duration": 0.078345,
     "end_time": "2021-08-21T11:14:43.152142",
     "exception": false,
     "start_time": "2021-08-21T11:14:43.073797",
     "status": "completed"
    },
    "tags": []
   },
   "outputs": [
    {
     "data": {
      "text/html": [
       "<div>\n",
       "<style scoped>\n",
       "    .dataframe tbody tr th:only-of-type {\n",
       "        vertical-align: middle;\n",
       "    }\n",
       "\n",
       "    .dataframe tbody tr th {\n",
       "        vertical-align: top;\n",
       "    }\n",
       "\n",
       "    .dataframe thead th {\n",
       "        text-align: right;\n",
       "    }\n",
       "</style>\n",
       "<table border=\"1\" class=\"dataframe\">\n",
       "  <thead>\n",
       "    <tr style=\"text-align: right;\">\n",
       "      <th></th>\n",
       "      <th>User_ID</th>\n",
       "      <th>Age</th>\n",
       "      <th>Height</th>\n",
       "      <th>Weight</th>\n",
       "      <th>Duration</th>\n",
       "      <th>Heart_Rate</th>\n",
       "      <th>Body_Temp</th>\n",
       "      <th>Calories</th>\n",
       "    </tr>\n",
       "  </thead>\n",
       "  <tbody>\n",
       "    <tr>\n",
       "      <th>count</th>\n",
       "      <td>1.500000e+04</td>\n",
       "      <td>15000.000000</td>\n",
       "      <td>15000.000000</td>\n",
       "      <td>15000.000000</td>\n",
       "      <td>15000.000000</td>\n",
       "      <td>15000.000000</td>\n",
       "      <td>15000.000000</td>\n",
       "      <td>15000.000000</td>\n",
       "    </tr>\n",
       "    <tr>\n",
       "      <th>mean</th>\n",
       "      <td>1.497736e+07</td>\n",
       "      <td>42.789800</td>\n",
       "      <td>174.465133</td>\n",
       "      <td>74.966867</td>\n",
       "      <td>15.530600</td>\n",
       "      <td>95.518533</td>\n",
       "      <td>40.025453</td>\n",
       "      <td>89.539533</td>\n",
       "    </tr>\n",
       "    <tr>\n",
       "      <th>std</th>\n",
       "      <td>2.872851e+06</td>\n",
       "      <td>16.980264</td>\n",
       "      <td>14.258114</td>\n",
       "      <td>15.035657</td>\n",
       "      <td>8.319203</td>\n",
       "      <td>9.583328</td>\n",
       "      <td>0.779230</td>\n",
       "      <td>62.456978</td>\n",
       "    </tr>\n",
       "    <tr>\n",
       "      <th>min</th>\n",
       "      <td>1.000116e+07</td>\n",
       "      <td>20.000000</td>\n",
       "      <td>123.000000</td>\n",
       "      <td>36.000000</td>\n",
       "      <td>1.000000</td>\n",
       "      <td>67.000000</td>\n",
       "      <td>37.100000</td>\n",
       "      <td>1.000000</td>\n",
       "    </tr>\n",
       "    <tr>\n",
       "      <th>25%</th>\n",
       "      <td>1.247419e+07</td>\n",
       "      <td>28.000000</td>\n",
       "      <td>164.000000</td>\n",
       "      <td>63.000000</td>\n",
       "      <td>8.000000</td>\n",
       "      <td>88.000000</td>\n",
       "      <td>39.600000</td>\n",
       "      <td>35.000000</td>\n",
       "    </tr>\n",
       "    <tr>\n",
       "      <th>50%</th>\n",
       "      <td>1.499728e+07</td>\n",
       "      <td>39.000000</td>\n",
       "      <td>175.000000</td>\n",
       "      <td>74.000000</td>\n",
       "      <td>16.000000</td>\n",
       "      <td>96.000000</td>\n",
       "      <td>40.200000</td>\n",
       "      <td>79.000000</td>\n",
       "    </tr>\n",
       "    <tr>\n",
       "      <th>75%</th>\n",
       "      <td>1.744928e+07</td>\n",
       "      <td>56.000000</td>\n",
       "      <td>185.000000</td>\n",
       "      <td>87.000000</td>\n",
       "      <td>23.000000</td>\n",
       "      <td>103.000000</td>\n",
       "      <td>40.600000</td>\n",
       "      <td>138.000000</td>\n",
       "    </tr>\n",
       "    <tr>\n",
       "      <th>max</th>\n",
       "      <td>1.999965e+07</td>\n",
       "      <td>79.000000</td>\n",
       "      <td>222.000000</td>\n",
       "      <td>132.000000</td>\n",
       "      <td>30.000000</td>\n",
       "      <td>128.000000</td>\n",
       "      <td>41.500000</td>\n",
       "      <td>314.000000</td>\n",
       "    </tr>\n",
       "  </tbody>\n",
       "</table>\n",
       "</div>"
      ],
      "text/plain": [
       "            User_ID           Age        Height        Weight      Duration  \\\n",
       "count  1.500000e+04  15000.000000  15000.000000  15000.000000  15000.000000   \n",
       "mean   1.497736e+07     42.789800    174.465133     74.966867     15.530600   \n",
       "std    2.872851e+06     16.980264     14.258114     15.035657      8.319203   \n",
       "min    1.000116e+07     20.000000    123.000000     36.000000      1.000000   \n",
       "25%    1.247419e+07     28.000000    164.000000     63.000000      8.000000   \n",
       "50%    1.499728e+07     39.000000    175.000000     74.000000     16.000000   \n",
       "75%    1.744928e+07     56.000000    185.000000     87.000000     23.000000   \n",
       "max    1.999965e+07     79.000000    222.000000    132.000000     30.000000   \n",
       "\n",
       "         Heart_Rate     Body_Temp      Calories  \n",
       "count  15000.000000  15000.000000  15000.000000  \n",
       "mean      95.518533     40.025453     89.539533  \n",
       "std        9.583328      0.779230     62.456978  \n",
       "min       67.000000     37.100000      1.000000  \n",
       "25%       88.000000     39.600000     35.000000  \n",
       "50%       96.000000     40.200000     79.000000  \n",
       "75%      103.000000     40.600000    138.000000  \n",
       "max      128.000000     41.500000    314.000000  "
      ]
     },
     "execution_count": 8,
     "metadata": {},
     "output_type": "execute_result"
    }
   ],
   "source": [
    "data.describe()"
   ]
  },
  {
   "cell_type": "code",
   "execution_count": 9,
   "id": "59c400ad",
   "metadata": {
    "execution": {
     "iopub.execute_input": "2021-08-21T11:14:43.221415Z",
     "iopub.status.busy": "2021-08-21T11:14:43.218432Z",
     "iopub.status.idle": "2021-08-21T11:14:43.225439Z",
     "shell.execute_reply": "2021-08-21T11:14:43.224856Z",
     "shell.execute_reply.started": "2021-08-21T11:13:08.374949Z"
    },
    "papermill": {
     "duration": 0.039132,
     "end_time": "2021-08-21T11:14:43.225572",
     "exception": false,
     "start_time": "2021-08-21T11:14:43.186440",
     "status": "completed"
    },
    "tags": []
   },
   "outputs": [
    {
     "data": {
      "text/plain": [
       "User_ID       0\n",
       "Gender        0\n",
       "Age           0\n",
       "Height        0\n",
       "Weight        0\n",
       "Duration      0\n",
       "Heart_Rate    0\n",
       "Body_Temp     0\n",
       "Calories      0\n",
       "dtype: int64"
      ]
     },
     "execution_count": 9,
     "metadata": {},
     "output_type": "execute_result"
    }
   ],
   "source": [
    "data.isnull().sum()"
   ]
  },
  {
   "cell_type": "markdown",
   "id": "9f057691",
   "metadata": {
    "papermill": {
     "duration": 0.026213,
     "end_time": "2021-08-21T11:14:43.278539",
     "exception": false,
     "start_time": "2021-08-21T11:14:43.252326",
     "status": "completed"
    },
    "tags": []
   },
   "source": [
    "Data Visualization"
   ]
  },
  {
   "cell_type": "code",
   "execution_count": 10,
   "id": "fa4c5f24",
   "metadata": {
    "execution": {
     "iopub.execute_input": "2021-08-21T11:14:43.342603Z",
     "iopub.status.busy": "2021-08-21T11:14:43.341972Z",
     "iopub.status.idle": "2021-08-21T11:14:43.494043Z",
     "shell.execute_reply": "2021-08-21T11:14:43.493518Z",
     "shell.execute_reply.started": "2021-08-21T11:13:08.444634Z"
    },
    "papermill": {
     "duration": 0.189386,
     "end_time": "2021-08-21T11:14:43.494188",
     "exception": false,
     "start_time": "2021-08-21T11:14:43.304802",
     "status": "completed"
    },
    "tags": []
   },
   "outputs": [
    {
     "data": {
      "image/png": "[encoded data removed]",
      "text/plain": [
       "<Figure size 432x432 with 1 Axes>"
      ]
     },
     "metadata": {},
     "output_type": "display_data"
    }
   ],
   "source": [
    "sns.set()\n",
    "plt.figure(figsize=(6,6))\n",
    "sns.countplot(x=data.Gender)\n",
    "plt.show()"
   ]
  },
  {
   "cell_type": "code",
   "execution_count": 11,
   "id": "772d77fb",
   "metadata": {
    "execution": {
     "iopub.execute_input": "2021-08-21T11:14:43.554197Z",
     "iopub.status.busy": "2021-08-21T11:14:43.553459Z",
     "iopub.status.idle": "2021-08-21T11:14:44.166211Z",
     "shell.execute_reply": "2021-08-21T11:14:44.166716Z",
     "shell.execute_reply.started": "2021-08-21T11:13:08.601604Z"
    },
    "papermill": {
     "duration": 0.645562,
     "end_time": "2021-08-21T11:14:44.166891",
     "exception": false,
     "start_time": "2021-08-21T11:14:43.521329",
     "status": "completed"
    },
    "tags": []
   },
   "outputs": [
    {
     "name": "stderr",
     "output_type": "stream",
     "text": [
      "/opt/conda/lib/python3.7/site-packages/seaborn/distributions.py:2557: FutureWarning: `distplot` is a deprecated function and will be removed in a future version. Please adapt your code to use either `displot` (a figure-level function with similar flexibility) or `histplot` (an axes-level function for histograms).\n",
      "  warnings.warn(msg, FutureWarning)\n"
     ]
    },
    {
     "data": {
      "image/png": "[encoded data removed]",
      "text/plain": [
       "<Figure size 432x432 with 1 Axes>"
      ]
     },
     "metadata": {},
     "output_type": "display_data"
    }
   ],
   "source": [
    "plt.figure(figsize=(6,6))\n",
    "sns.distplot(x=data.Height)\n",
    "plt.show()"
   ]
  },
  {
   "cell_type": "code",
   "execution_count": 12,
   "id": "cc682e47",
   "metadata": {
    "execution": {
     "iopub.execute_input": "2021-08-21T11:14:44.230520Z",
     "iopub.status.busy": "2021-08-21T11:14:44.229572Z",
     "iopub.status.idle": "2021-08-21T11:14:44.613382Z",
     "shell.execute_reply": "2021-08-21T11:14:44.612923Z",
     "shell.execute_reply.started": "2021-08-21T11:13:09.038127Z"
    },
    "papermill": {
     "duration": 0.414838,
     "end_time": "2021-08-21T11:14:44.613518",
     "exception": false,
     "start_time": "2021-08-21T11:14:44.198680",
     "status": "completed"
    },
    "tags": []
   },
   "outputs": [
    {
     "name": "stderr",
     "output_type": "stream",
     "text": [
      "/opt/conda/lib/python3.7/site-packages/seaborn/distributions.py:2557: FutureWarning: `distplot` is a deprecated function and will be removed in a future version. Please adapt your code to use either `displot` (a figure-level function with similar flexibility) or `histplot` (an axes-level function for histograms).\n",
      "  warnings.warn(msg, FutureWarning)\n"
     ]
    },
    {
     "data": {
      "image/png": "[encoded data removed]",
      "text/plain": [
       "<Figure size 432x432 with 1 Axes>"
      ]
     },
     "metadata": {},
     "output_type": "display_data"
    }
   ],
   "source": [
    "plt.figure(figsize=(6,6))\n",
    "sns.distplot(x=data.Weight)\n",
    "plt.show()"
   ]
  },
  {
   "cell_type": "code",
   "execution_count": 13,
   "id": "996cafc8",
   "metadata": {
    "execution": {
     "iopub.execute_input": "2021-08-21T11:14:44.797734Z",
     "iopub.status.busy": "2021-08-21T11:14:44.796238Z",
     "iopub.status.idle": "2021-08-21T11:14:45.164150Z",
     "shell.execute_reply": "2021-08-21T11:14:45.163080Z",
     "shell.execute_reply.started": "2021-08-21T11:13:09.481850Z"
    },
    "papermill": {
     "duration": 0.522134,
     "end_time": "2021-08-21T11:14:45.164327",
     "exception": false,
     "start_time": "2021-08-21T11:14:44.642193",
     "status": "completed"
    },
    "tags": []
   },
   "outputs": [
    {
     "name": "stderr",
     "output_type": "stream",
     "text": [
      "/opt/conda/lib/python3.7/site-packages/seaborn/distributions.py:2557: FutureWarning: `distplot` is a deprecated function and will be removed in a future version. Please adapt your code to use either `displot` (a figure-level function with similar flexibility) or `histplot` (an axes-level function for histograms).\n",
      "  warnings.warn(msg, FutureWarning)\n"
     ]
    },
    {
     "data": {
      "image/png": "[encoded data removed]",
      "text/plain": [
       "<Figure size 432x432 with 1 Axes>"
      ]
     },
     "metadata": {},
     "output_type": "display_data"
    }
   ],
   "source": [
    "plt.figure(figsize=(6,6))\n",
    "sns.distplot(x=data.Age)\n",
    "plt.show()"
   ]
  },
  {
   "cell_type": "code",
   "execution_count": 14,
   "id": "a5b3e94f",
   "metadata": {
    "execution": {
     "iopub.execute_input": "2021-08-21T11:14:45.242573Z",
     "iopub.status.busy": "2021-08-21T11:14:45.241596Z",
     "iopub.status.idle": "2021-08-21T11:14:45.478214Z",
     "shell.execute_reply": "2021-08-21T11:14:45.478759Z",
     "shell.execute_reply.started": "2021-08-21T11:13:09.949386Z"
    },
    "papermill": {
     "duration": 0.275049,
     "end_time": "2021-08-21T11:14:45.478933",
     "exception": false,
     "start_time": "2021-08-21T11:14:45.203884",
     "status": "completed"
    },
    "tags": []
   },
   "outputs": [
    {
     "data": {
      "image/png": "[encoded data removed]",
      "text/plain": [
       "<Figure size 432x432 with 1 Axes>"
      ]
     },
     "metadata": {},
     "output_type": "display_data"
    }
   ],
   "source": [
    "plt.figure(figsize=(6,6))\n",
    "sns.scatterplot(x=data.Height,y=data.Calories)\n",
    "plt.show()"
   ]
  },
  {
   "cell_type": "code",
   "execution_count": 15,
   "id": "d9e8a1bb",
   "metadata": {
    "execution": {
     "iopub.execute_input": "2021-08-21T11:14:45.548473Z",
     "iopub.status.busy": "2021-08-21T11:14:45.547898Z",
     "iopub.status.idle": "2021-08-21T11:14:45.756779Z",
     "shell.execute_reply": "2021-08-21T11:14:45.756136Z",
     "shell.execute_reply.started": "2021-08-21T11:13:10.215218Z"
    },
    "papermill": {
     "duration": 0.244567,
     "end_time": "2021-08-21T11:14:45.756928",
     "exception": false,
     "start_time": "2021-08-21T11:14:45.512361",
     "status": "completed"
    },
    "tags": []
   },
   "outputs": [
    {
     "data": {
      "image/png": "[encoded data removed]",
      "text/plain": [
       "<Figure size 432x432 with 1 Axes>"
      ]
     },
     "metadata": {},
     "output_type": "display_data"
    }
   ],
   "source": [
    "plt.figure(figsize=(6,6))\n",
    "sns.scatterplot(x=data.Weight,y=data.Calories)\n",
    "plt.show()"
   ]
  },
  {
   "cell_type": "code",
   "execution_count": 16,
   "id": "84a4ed3f",
   "metadata": {
    "execution": {
     "iopub.execute_input": "2021-08-21T11:14:45.841647Z",
     "iopub.status.busy": "2021-08-21T11:14:45.841055Z",
     "iopub.status.idle": "2021-08-21T11:14:46.190357Z",
     "shell.execute_reply": "2021-08-21T11:14:46.189784Z",
     "shell.execute_reply.started": "2021-08-21T11:13:10.456734Z"
    },
    "papermill": {
     "duration": 0.396944,
     "end_time": "2021-08-21T11:14:46.190494",
     "exception": false,
     "start_time": "2021-08-21T11:14:45.793550",
     "status": "completed"
    },
    "tags": []
   },
   "outputs": [
    {
     "name": "stderr",
     "output_type": "stream",
     "text": [
      "/opt/conda/lib/python3.7/site-packages/seaborn/distributions.py:2557: FutureWarning: `distplot` is a deprecated function and will be removed in a future version. Please adapt your code to use either `displot` (a figure-level function with similar flexibility) or `histplot` (an axes-level function for histograms).\n",
      "  warnings.warn(msg, FutureWarning)\n"
     ]
    },
    {
     "data": {
      "image/png": "[encoded data removed]",
      "text/plain": [
       "<Figure size 432x432 with 1 Axes>"
      ]
     },
     "metadata": {},
     "output_type": "display_data"
    }
   ],
   "source": [
    "plt.figure(figsize=(6,6))\n",
    "sns.distplot(x=data.Duration)\n",
    "plt.show()"
   ]
  },
  {
   "cell_type": "code",
   "execution_count": 17,
   "id": "b1d88308",
   "metadata": {
    "execution": {
     "iopub.execute_input": "2021-08-21T11:14:46.285889Z",
     "iopub.status.busy": "2021-08-21T11:14:46.282955Z",
     "iopub.status.idle": "2021-08-21T11:14:46.670713Z",
     "shell.execute_reply": "2021-08-21T11:14:46.670217Z",
     "shell.execute_reply.started": "2021-08-21T11:13:11.080703Z"
    },
    "papermill": {
     "duration": 0.441836,
     "end_time": "2021-08-21T11:14:46.670851",
     "exception": false,
     "start_time": "2021-08-21T11:14:46.229015",
     "status": "completed"
    },
    "tags": []
   },
   "outputs": [
    {
     "name": "stderr",
     "output_type": "stream",
     "text": [
      "/opt/conda/lib/python3.7/site-packages/seaborn/distributions.py:2557: FutureWarning: `distplot` is a deprecated function and will be removed in a future version. Please adapt your code to use either `displot` (a figure-level function with similar flexibility) or `histplot` (an axes-level function for histograms).\n",
      "  warnings.warn(msg, FutureWarning)\n"
     ]
    },
    {
     "data": {
      "image/png": "[encoded data removed]",
      "text/plain": [
       "<Figure size 432x432 with 1 Axes>"
      ]
     },
     "metadata": {},
     "output_type": "display_data"
    }
   ],
   "source": [
    "plt.figure(figsize=(6,6))\n",
    "sns.distplot(x=data.Heart_Rate)\n",
    "plt.show()"
   ]
  },
  {
   "cell_type": "code",
   "execution_count": 18,
   "id": "ac1ea9db",
   "metadata": {
    "execution": {
     "iopub.execute_input": "2021-08-21T11:14:46.777515Z",
     "iopub.status.busy": "2021-08-21T11:14:46.773130Z",
     "iopub.status.idle": "2021-08-21T11:14:47.154213Z",
     "shell.execute_reply": "2021-08-21T11:14:47.153769Z",
     "shell.execute_reply.started": "2021-08-21T11:13:11.535902Z"
    },
    "papermill": {
     "duration": 0.444048,
     "end_time": "2021-08-21T11:14:47.154349",
     "exception": false,
     "start_time": "2021-08-21T11:14:46.710301",
     "status": "completed"
    },
    "tags": []
   },
   "outputs": [
    {
     "name": "stderr",
     "output_type": "stream",
     "text": [
      "/opt/conda/lib/python3.7/site-packages/seaborn/distributions.py:2557: FutureWarning: `distplot` is a deprecated function and will be removed in a future version. Please adapt your code to use either `displot` (a figure-level function with similar flexibility) or `histplot` (an axes-level function for histograms).\n",
      "  warnings.warn(msg, FutureWarning)\n"
     ]
    },
    {
     "data": {
      "image/png": "[encoded data removed]",
      "text/plain": [
       "<Figure size 432x432 with 1 Axes>"
      ]
     },
     "metadata": {},
     "output_type": "display_data"
    }
   ],
   "source": [
    "plt.figure(figsize=(6,6))\n",
    "sns.distplot(x=data.Body_Temp)\n",
    "plt.show()"
   ]
  },
  {
   "cell_type": "code",
   "execution_count": 19,
   "id": "5f8abe65",
   "metadata": {
    "execution": {
     "iopub.execute_input": "2021-08-21T11:14:47.238472Z",
     "iopub.status.busy": "2021-08-21T11:14:47.237630Z",
     "iopub.status.idle": "2021-08-21T11:14:47.256273Z",
     "shell.execute_reply": "2021-08-21T11:14:47.255653Z",
     "shell.execute_reply.started": "2021-08-21T11:13:12.028140Z"
    },
    "papermill": {
     "duration": 0.062573,
     "end_time": "2021-08-21T11:14:47.256409",
     "exception": false,
     "start_time": "2021-08-21T11:14:47.193836",
     "status": "completed"
    },
    "tags": []
   },
   "outputs": [
    {
     "data": {
      "text/html": [
       "<div>\n",
       "<style scoped>\n",
       "    .dataframe tbody tr th:only-of-type {\n",
       "        vertical-align: middle;\n",
       "    }\n",
       "\n",
       "    .dataframe tbody tr th {\n",
       "        vertical-align: top;\n",
       "    }\n",
       "\n",
       "    .dataframe thead th {\n",
       "        text-align: right;\n",
       "    }\n",
       "</style>\n",
       "<table border=\"1\" class=\"dataframe\">\n",
       "  <thead>\n",
       "    <tr style=\"text-align: right;\">\n",
       "      <th></th>\n",
       "      <th>User_ID</th>\n",
       "      <th>Age</th>\n",
       "      <th>Height</th>\n",
       "      <th>Weight</th>\n",
       "      <th>Duration</th>\n",
       "      <th>Heart_Rate</th>\n",
       "      <th>Body_Temp</th>\n",
       "      <th>Calories</th>\n",
       "    </tr>\n",
       "  </thead>\n",
       "  <tbody>\n",
       "    <tr>\n",
       "      <th>User_ID</th>\n",
       "      <td>1.000000</td>\n",
       "      <td>-0.001827</td>\n",
       "      <td>-0.013520</td>\n",
       "      <td>-0.011603</td>\n",
       "      <td>-0.002751</td>\n",
       "      <td>-0.000457</td>\n",
       "      <td>0.000923</td>\n",
       "      <td>-0.001661</td>\n",
       "    </tr>\n",
       "    <tr>\n",
       "      <th>Age</th>\n",
       "      <td>-0.001827</td>\n",
       "      <td>1.000000</td>\n",
       "      <td>0.009554</td>\n",
       "      <td>0.090094</td>\n",
       "      <td>0.013247</td>\n",
       "      <td>0.010482</td>\n",
       "      <td>0.013175</td>\n",
       "      <td>0.154395</td>\n",
       "    </tr>\n",
       "    <tr>\n",
       "      <th>Height</th>\n",
       "      <td>-0.013520</td>\n",
       "      <td>0.009554</td>\n",
       "      <td>1.000000</td>\n",
       "      <td>0.958451</td>\n",
       "      <td>-0.004625</td>\n",
       "      <td>0.000528</td>\n",
       "      <td>0.001200</td>\n",
       "      <td>0.017537</td>\n",
       "    </tr>\n",
       "    <tr>\n",
       "      <th>Weight</th>\n",
       "      <td>-0.011603</td>\n",
       "      <td>0.090094</td>\n",
       "      <td>0.958451</td>\n",
       "      <td>1.000000</td>\n",
       "      <td>-0.001884</td>\n",
       "      <td>0.004311</td>\n",
       "      <td>0.004095</td>\n",
       "      <td>0.035481</td>\n",
       "    </tr>\n",
       "    <tr>\n",
       "      <th>Duration</th>\n",
       "      <td>-0.002751</td>\n",
       "      <td>0.013247</td>\n",
       "      <td>-0.004625</td>\n",
       "      <td>-0.001884</td>\n",
       "      <td>1.000000</td>\n",
       "      <td>0.852869</td>\n",
       "      <td>0.903167</td>\n",
       "      <td>0.955421</td>\n",
       "    </tr>\n",
       "    <tr>\n",
       "      <th>Heart_Rate</th>\n",
       "      <td>-0.000457</td>\n",
       "      <td>0.010482</td>\n",
       "      <td>0.000528</td>\n",
       "      <td>0.004311</td>\n",
       "      <td>0.852869</td>\n",
       "      <td>1.000000</td>\n",
       "      <td>0.771529</td>\n",
       "      <td>0.897882</td>\n",
       "    </tr>\n",
       "    <tr>\n",
       "      <th>Body_Temp</th>\n",
       "      <td>0.000923</td>\n",
       "      <td>0.013175</td>\n",
       "      <td>0.001200</td>\n",
       "      <td>0.004095</td>\n",
       "      <td>0.903167</td>\n",
       "      <td>0.771529</td>\n",
       "      <td>1.000000</td>\n",
       "      <td>0.824558</td>\n",
       "    </tr>\n",
       "    <tr>\n",
       "      <th>Calories</th>\n",
       "      <td>-0.001661</td>\n",
       "      <td>0.154395</td>\n",
       "      <td>0.017537</td>\n",
       "      <td>0.035481</td>\n",
       "      <td>0.955421</td>\n",
       "      <td>0.897882</td>\n",
       "      <td>0.824558</td>\n",
       "      <td>1.000000</td>\n",
       "    </tr>\n",
       "  </tbody>\n",
       "</table>\n",
       "</div>"
      ],
      "text/plain": [
       "             User_ID       Age    Height    Weight  Duration  Heart_Rate  \\\n",
       "User_ID     1.000000 -0.001827 -0.013520 -0.011603 -0.002751   -0.000457   \n",
       "Age        -0.001827  1.000000  0.009554  0.090094  0.013247    0.010482   \n",
       "Height     -0.013520  0.009554  1.000000  0.958451 -0.004625    0.000528   \n",
       "Weight     -0.011603  0.090094  0.958451  1.000000 -0.001884    0.004311   \n",
       "Duration   -0.002751  0.013247 -0.004625 -0.001884  1.000000    0.852869   \n",
       "Heart_Rate -0.000457  0.010482  0.000528  0.004311  0.852869    1.000000   \n",
       "Body_Temp   0.000923  0.013175  0.001200  0.004095  0.903167    0.771529   \n",
       "Calories   -0.001661  0.154395  0.017537  0.035481  0.955421    0.897882   \n",
       "\n",
       "            Body_Temp  Calories  \n",
       "User_ID      0.000923 -0.001661  \n",
       "Age          0.013175  0.154395  \n",
       "Height       0.001200  0.017537  \n",
       "Weight       0.004095  0.035481  \n",
       "Duration     0.903167  0.955421  \n",
       "Heart_Rate   0.771529  0.897882  \n",
       "Body_Temp    1.000000  0.824558  \n",
       "Calories     0.824558  1.000000  "
      ]
     },
     "execution_count": 19,
     "metadata": {},
     "output_type": "execute_result"
    }
   ],
   "source": [
    "data.corr()"
   ]
  },
  {
   "cell_type": "markdown",
   "id": "2737f2fe",
   "metadata": {
    "papermill": {
     "duration": 0.039441,
     "end_time": "2021-08-21T11:14:47.336017",
     "exception": false,
     "start_time": "2021-08-21T11:14:47.296576",
     "status": "completed"
    },
    "tags": []
   },
   "source": [
    "Model Training \n",
    "1. Model with only duration\n",
    "2. Model with all the relevant columns\n",
    "3. Model with all the columns"
   ]
  },
  {
   "cell_type": "markdown",
   "id": "04c65eaf",
   "metadata": {
    "papermill": {
     "duration": 0.039692,
     "end_time": "2021-08-21T11:14:47.416148",
     "exception": false,
     "start_time": "2021-08-21T11:14:47.376456",
     "status": "completed"
    },
    "tags": []
   },
   "source": []
  },
  {
   "cell_type": "code",
   "execution_count": 20,
   "id": "a5965b3b",
   "metadata": {
    "execution": {
     "iopub.execute_input": "2021-08-21T11:14:47.502815Z",
     "iopub.status.busy": "2021-08-21T11:14:47.502177Z",
     "iopub.status.idle": "2021-08-21T11:14:47.505154Z",
     "shell.execute_reply": "2021-08-21T11:14:47.504600Z",
     "shell.execute_reply.started": "2021-08-21T11:13:12.054116Z"
    },
    "papermill": {
     "duration": 0.04928,
     "end_time": "2021-08-21T11:14:47.505296",
     "exception": false,
     "start_time": "2021-08-21T11:14:47.456016",
     "status": "completed"
    },
    "tags": []
   },
   "outputs": [],
   "source": [
    "X = data.drop(['User_ID','Gender','Age','Height','Weight','Heart_Rate','Body_Temp','Calories'],axis=1,index=None)\n",
    "y = data.drop(['User_ID','Gender','Age','Height','Weight','Heart_Rate','Body_Temp','Duration'],axis=1)"
   ]
  },
  {
   "cell_type": "code",
   "execution_count": 21,
   "id": "4b5d0a6a",
   "metadata": {
    "execution": {
     "iopub.execute_input": "2021-08-21T11:14:47.590184Z",
     "iopub.status.busy": "2021-08-21T11:14:47.589465Z",
     "iopub.status.idle": "2021-08-21T11:14:47.595613Z",
     "shell.execute_reply": "2021-08-21T11:14:47.595150Z",
     "shell.execute_reply.started": "2021-08-21T11:13:12.064249Z"
    },
    "papermill": {
     "duration": 0.050337,
     "end_time": "2021-08-21T11:14:47.595770",
     "exception": false,
     "start_time": "2021-08-21T11:14:47.545433",
     "status": "completed"
    },
    "tags": []
   },
   "outputs": [],
   "source": [
    "X_train,X_test,y_train,y_test = train_test_split(X,y,test_size=0.2,random_state=42)"
   ]
  },
  {
   "cell_type": "code",
   "execution_count": 22,
   "id": "b7f1280d",
   "metadata": {
    "execution": {
     "iopub.execute_input": "2021-08-21T11:14:47.681054Z",
     "iopub.status.busy": "2021-08-21T11:14:47.680221Z",
     "iopub.status.idle": "2021-08-21T11:14:47.683658Z",
     "shell.execute_reply": "2021-08-21T11:14:47.684130Z",
     "shell.execute_reply.started": "2021-08-21T11:13:12.082203Z"
    },
    "papermill": {
     "duration": 0.048347,
     "end_time": "2021-08-21T11:14:47.684300",
     "exception": false,
     "start_time": "2021-08-21T11:14:47.635953",
     "status": "completed"
    },
    "tags": []
   },
   "outputs": [
    {
     "data": {
      "text/plain": [
       "((12000, 1), (3000, 1))"
      ]
     },
     "execution_count": 22,
     "metadata": {},
     "output_type": "execute_result"
    }
   ],
   "source": [
    "X_train.shape,X_test.shape"
   ]
  },
  {
   "cell_type": "code",
   "execution_count": 23,
   "id": "6d74c732",
   "metadata": {
    "execution": {
     "iopub.execute_input": "2021-08-21T11:14:47.809968Z",
     "iopub.status.busy": "2021-08-21T11:14:47.780933Z",
     "iopub.status.idle": "2021-08-21T11:14:47.816330Z",
     "shell.execute_reply": "2021-08-21T11:14:47.816790Z",
     "shell.execute_reply.started": "2021-08-21T11:13:12.097416Z"
    },
    "papermill": {
     "duration": 0.091493,
     "end_time": "2021-08-21T11:14:47.816960",
     "exception": false,
     "start_time": "2021-08-21T11:14:47.725467",
     "status": "completed"
    },
    "tags": []
   },
   "outputs": [
    {
     "data": {
      "text/plain": [
       "LinearRegression()"
      ]
     },
     "execution_count": 23,
     "metadata": {},
     "output_type": "execute_result"
    }
   ],
   "source": [
    "lr = LinearRegression()\n",
    "lr.fit(X_train,y_train)"
   ]
  },
  {
   "cell_type": "code",
   "execution_count": 24,
   "id": "67357a04",
   "metadata": {
    "execution": {
     "iopub.execute_input": "2021-08-21T11:14:47.906855Z",
     "iopub.status.busy": "2021-08-21T11:14:47.906168Z",
     "iopub.status.idle": "2021-08-21T11:14:47.910324Z",
     "shell.execute_reply": "2021-08-21T11:14:47.911006Z",
     "shell.execute_reply.started": "2021-08-21T11:13:12.115483Z"
    },
    "papermill": {
     "duration": 0.053072,
     "end_time": "2021-08-21T11:14:47.911200",
     "exception": false,
     "start_time": "2021-08-21T11:14:47.858128",
     "status": "completed"
    },
    "tags": []
   },
   "outputs": [
    {
     "data": {
      "text/plain": [
       "0.9123562018290068"
      ]
     },
     "execution_count": 24,
     "metadata": {},
     "output_type": "execute_result"
    }
   ],
   "source": [
    "pred = lr.predict(X_train)\n",
    "score = metrics.r2_score(y_train,pred)\n",
    "score"
   ]
  },
  {
   "cell_type": "code",
   "execution_count": 25,
   "id": "5291bfc6",
   "metadata": {
    "execution": {
     "iopub.execute_input": "2021-08-21T11:14:47.996898Z",
     "iopub.status.busy": "2021-08-21T11:14:47.996221Z",
     "iopub.status.idle": "2021-08-21T11:14:48.004894Z",
     "shell.execute_reply": "2021-08-21T11:14:48.005368Z",
     "shell.execute_reply.started": "2021-08-21T11:13:12.132671Z"
    },
    "papermill": {
     "duration": 0.052557,
     "end_time": "2021-08-21T11:14:48.005534",
     "exception": false,
     "start_time": "2021-08-21T11:14:47.952977",
     "status": "completed"
    },
    "tags": []
   },
   "outputs": [
    {
     "data": {
      "text/plain": [
       "0.9145047527249381"
      ]
     },
     "execution_count": 25,
     "metadata": {},
     "output_type": "execute_result"
    }
   ],
   "source": [
    "pred1 = lr.predict(X_test)\n",
    "score1 = metrics.r2_score(y_test,pred1)\n",
    "score1"
   ]
  },
  {
   "cell_type": "code",
   "execution_count": 26,
   "id": "72d50872",
   "metadata": {
    "execution": {
     "iopub.execute_input": "2021-08-21T11:14:48.091925Z",
     "iopub.status.busy": "2021-08-21T11:14:48.091269Z",
     "iopub.status.idle": "2021-08-21T11:14:48.109166Z",
     "shell.execute_reply": "2021-08-21T11:14:48.108593Z",
     "shell.execute_reply.started": "2021-08-21T11:13:12.149051Z"
    },
    "papermill": {
     "duration": 0.061925,
     "end_time": "2021-08-21T11:14:48.109295",
     "exception": false,
     "start_time": "2021-08-21T11:14:48.047370",
     "status": "completed"
    },
    "tags": []
   },
   "outputs": [
    {
     "data": {
      "text/plain": [
       "0.9282248617533129"
      ]
     },
     "execution_count": 26,
     "metadata": {},
     "output_type": "execute_result"
    }
   ],
   "source": [
    "dt = DecisionTreeRegressor()\n",
    "dt.fit(X_train,y_train)\n",
    "pred = dt.predict(X_train)\n",
    "score = metrics.r2_score(y_train,pred)\n",
    "score"
   ]
  },
  {
   "cell_type": "code",
   "execution_count": 27,
   "id": "73276a93",
   "metadata": {
    "execution": {
     "iopub.execute_input": "2021-08-21T11:14:48.194961Z",
     "iopub.status.busy": "2021-08-21T11:14:48.194231Z",
     "iopub.status.idle": "2021-08-21T11:14:48.203873Z",
     "shell.execute_reply": "2021-08-21T11:14:48.203230Z",
     "shell.execute_reply.started": "2021-08-21T11:13:12.174309Z"
    },
    "papermill": {
     "duration": 0.053409,
     "end_time": "2021-08-21T11:14:48.204011",
     "exception": false,
     "start_time": "2021-08-21T11:14:48.150602",
     "status": "completed"
    },
    "tags": []
   },
   "outputs": [
    {
     "data": {
      "text/plain": [
       "0.931790696825987"
      ]
     },
     "execution_count": 27,
     "metadata": {},
     "output_type": "execute_result"
    }
   ],
   "source": [
    "pred1 = dt.predict(X_test)\n",
    "score1 = metrics.r2_score(y_test,pred1)\n",
    "score1"
   ]
  },
  {
   "cell_type": "code",
   "execution_count": 28,
   "id": "806c4fba",
   "metadata": {
    "execution": {
     "iopub.execute_input": "2021-08-21T11:14:48.335076Z",
     "iopub.status.busy": "2021-08-21T11:14:48.331162Z",
     "iopub.status.idle": "2021-08-21T11:14:48.642335Z",
     "shell.execute_reply": "2021-08-21T11:14:48.641847Z",
     "shell.execute_reply.started": "2021-08-21T11:13:12.659991Z"
    },
    "papermill": {
     "duration": 0.396904,
     "end_time": "2021-08-21T11:14:48.642484",
     "exception": false,
     "start_time": "2021-08-21T11:14:48.245580",
     "status": "completed"
    },
    "tags": []
   },
   "outputs": [
    {
     "name": "stderr",
     "output_type": "stream",
     "text": [
      "/opt/conda/lib/python3.7/site-packages/ipykernel_launcher.py:2: DataConversionWarning: A column-vector y was passed when a 1d array was expected. Please change the shape of y to (n_samples,), for example using ravel().\n",
      "  \n"
     ]
    },
    {
     "data": {
      "text/plain": [
       "0.9282239841597467"
      ]
     },
     "execution_count": 28,
     "metadata": {},
     "output_type": "execute_result"
    }
   ],
   "source": [
    "rf = RandomForestRegressor()\n",
    "rf.fit(X_train,y_train)\n",
    "pred = rf.predict(X_train)\n",
    "score = metrics.r2_score(y_train,pred)\n",
    "score"
   ]
  },
  {
   "cell_type": "code",
   "execution_count": 29,
   "id": "b74d18d1",
   "metadata": {
    "execution": {
     "iopub.execute_input": "2021-08-21T11:14:48.732973Z",
     "iopub.status.busy": "2021-08-21T11:14:48.732016Z",
     "iopub.status.idle": "2021-08-21T11:14:48.764309Z",
     "shell.execute_reply": "2021-08-21T11:14:48.763845Z",
     "shell.execute_reply.started": "2021-08-21T11:13:13.069029Z"
    },
    "papermill": {
     "duration": 0.08025,
     "end_time": "2021-08-21T11:14:48.764443",
     "exception": false,
     "start_time": "2021-08-21T11:14:48.684193",
     "status": "completed"
    },
    "tags": []
   },
   "outputs": [
    {
     "data": {
      "text/plain": [
       "0.9317882545779517"
      ]
     },
     "execution_count": 29,
     "metadata": {},
     "output_type": "execute_result"
    }
   ],
   "source": [
    "pred1 = rf.predict(X_test)\n",
    "score1 = metrics.r2_score(y_test,pred1)\n",
    "score1"
   ]
  },
  {
   "cell_type": "code",
   "execution_count": 30,
   "id": "a55b16dd",
   "metadata": {
    "execution": {
     "iopub.execute_input": "2021-08-21T11:14:48.856581Z",
     "iopub.status.busy": "2021-08-21T11:14:48.855960Z",
     "iopub.status.idle": "2021-08-21T11:14:48.863424Z",
     "shell.execute_reply": "2021-08-21T11:14:48.862960Z",
     "shell.execute_reply.started": "2021-08-21T11:13:13.107597Z"
    },
    "papermill": {
     "duration": 0.05712,
     "end_time": "2021-08-21T11:14:48.863554",
     "exception": false,
     "start_time": "2021-08-21T11:14:48.806434",
     "status": "completed"
    },
    "tags": []
   },
   "outputs": [
    {
     "data": {
      "text/plain": [
       "((12000, 3), (3000, 3))"
      ]
     },
     "execution_count": 30,
     "metadata": {},
     "output_type": "execute_result"
    }
   ],
   "source": [
    "X = data.drop(['User_ID','Gender','Age','Height','Weight','Calories'],axis=1,index=None)\n",
    "y = data.drop(['User_ID','Gender','Age','Height','Weight','Duration'],axis=1)\n",
    "X_train,X_test,y_train,y_test = train_test_split(X,y,test_size=0.2,random_state=42)\n",
    "X_train.shape,X_test.shape"
   ]
  },
  {
   "cell_type": "code",
   "execution_count": 31,
   "id": "9c4011a6",
   "metadata": {
    "execution": {
     "iopub.execute_input": "2021-08-21T11:14:48.953863Z",
     "iopub.status.busy": "2021-08-21T11:14:48.953268Z",
     "iopub.status.idle": "2021-08-21T11:14:48.977752Z",
     "shell.execute_reply": "2021-08-21T11:14:48.978193Z",
     "shell.execute_reply.started": "2021-08-21T11:13:13.584989Z"
    },
    "papermill": {
     "duration": 0.072697,
     "end_time": "2021-08-21T11:14:48.978367",
     "exception": false,
     "start_time": "2021-08-21T11:14:48.905670",
     "status": "completed"
    },
    "tags": []
   },
   "outputs": [
    {
     "data": {
      "text/plain": [
       "0.9820610670750405"
      ]
     },
     "execution_count": 31,
     "metadata": {},
     "output_type": "execute_result"
    }
   ],
   "source": [
    "lr.fit(X_train,y_train)\n",
    "pred = lr.predict(X_train)\n",
    "score = metrics.r2_score(y_train,pred)\n",
    "score"
   ]
  },
  {
   "cell_type": "code",
   "execution_count": 32,
   "id": "2930ea1e",
   "metadata": {
    "execution": {
     "iopub.execute_input": "2021-08-21T11:14:49.073320Z",
     "iopub.status.busy": "2021-08-21T11:14:49.070782Z",
     "iopub.status.idle": "2021-08-21T11:14:49.078377Z",
     "shell.execute_reply": "2021-08-21T11:14:49.078832Z",
     "shell.execute_reply.started": "2021-08-21T11:13:13.603424Z"
    },
    "papermill": {
     "duration": 0.057732,
     "end_time": "2021-08-21T11:14:49.079011",
     "exception": false,
     "start_time": "2021-08-21T11:14:49.021279",
     "status": "completed"
    },
    "tags": []
   },
   "outputs": [
    {
     "data": {
      "text/plain": [
       "0.9821528310671884"
      ]
     },
     "execution_count": 32,
     "metadata": {},
     "output_type": "execute_result"
    }
   ],
   "source": [
    "pred1 = lr.predict(X_test)\n",
    "score1 = metrics.r2_score(y_test,pred1)\n",
    "score1"
   ]
  },
  {
   "cell_type": "code",
   "execution_count": 33,
   "id": "580a941c",
   "metadata": {
    "execution": {
     "iopub.execute_input": "2021-08-21T11:14:49.167211Z",
     "iopub.status.busy": "2021-08-21T11:14:49.166627Z",
     "iopub.status.idle": "2021-08-21T11:14:49.199103Z",
     "shell.execute_reply": "2021-08-21T11:14:49.199533Z",
     "shell.execute_reply.started": "2021-08-21T11:13:13.699771Z"
    },
    "papermill": {
     "duration": 0.077856,
     "end_time": "2021-08-21T11:14:49.199692",
     "exception": false,
     "start_time": "2021-08-21T11:14:49.121836",
     "status": "completed"
    },
    "tags": []
   },
   "outputs": [
    {
     "data": {
      "text/plain": [
       "0.9787409037958059"
      ]
     },
     "execution_count": 33,
     "metadata": {},
     "output_type": "execute_result"
    }
   ],
   "source": [
    "dt.fit(X_train,y_train)\n",
    "pred1 = dt.predict(X_test)\n",
    "score1 = metrics.r2_score(y_test,pred1)\n",
    "score1"
   ]
  },
  {
   "cell_type": "code",
   "execution_count": 34,
   "id": "d0d6b12d",
   "metadata": {
    "execution": {
     "iopub.execute_input": "2021-08-21T11:14:49.288492Z",
     "iopub.status.busy": "2021-08-21T11:14:49.287904Z",
     "iopub.status.idle": "2021-08-21T11:14:50.813414Z",
     "shell.execute_reply": "2021-08-21T11:14:50.813901Z",
     "shell.execute_reply.started": "2021-08-21T11:13:13.793714Z"
    },
    "papermill": {
     "duration": 1.571456,
     "end_time": "2021-08-21T11:14:50.814068",
     "exception": false,
     "start_time": "2021-08-21T11:14:49.242612",
     "status": "completed"
    },
    "tags": []
   },
   "outputs": [
    {
     "data": {
      "text/plain": [
       "0.982740011003111"
      ]
     },
     "execution_count": 34,
     "metadata": {},
     "output_type": "execute_result"
    }
   ],
   "source": [
    "rf.fit(X_train,y_train)\n",
    "pred1 = rf.predict(X_test)\n",
    "score1 = metrics.r2_score(y_test,pred1)\n",
    "score1"
   ]
  },
  {
   "cell_type": "code",
   "execution_count": 35,
   "id": "6258fac4",
   "metadata": {
    "execution": {
     "iopub.execute_input": "2021-08-21T11:14:50.903827Z",
     "iopub.status.busy": "2021-08-21T11:14:50.903242Z",
     "iopub.status.idle": "2021-08-21T11:14:50.926346Z",
     "shell.execute_reply": "2021-08-21T11:14:50.925860Z",
     "shell.execute_reply.started": "2021-08-21T11:13:15.348433Z"
    },
    "papermill": {
     "duration": 0.068998,
     "end_time": "2021-08-21T11:14:50.926481",
     "exception": false,
     "start_time": "2021-08-21T11:14:50.857483",
     "status": "completed"
    },
    "tags": []
   },
   "outputs": [
    {
     "data": {
      "text/html": [
       "<div>\n",
       "<style scoped>\n",
       "    .dataframe tbody tr th:only-of-type {\n",
       "        vertical-align: middle;\n",
       "    }\n",
       "\n",
       "    .dataframe tbody tr th {\n",
       "        vertical-align: top;\n",
       "    }\n",
       "\n",
       "    .dataframe thead th {\n",
       "        text-align: right;\n",
       "    }\n",
       "</style>\n",
       "<table border=\"1\" class=\"dataframe\">\n",
       "  <thead>\n",
       "    <tr style=\"text-align: right;\">\n",
       "      <th></th>\n",
       "      <th>User_ID</th>\n",
       "      <th>Gender</th>\n",
       "      <th>Age</th>\n",
       "      <th>Height</th>\n",
       "      <th>Weight</th>\n",
       "      <th>Duration</th>\n",
       "      <th>Heart_Rate</th>\n",
       "      <th>Body_Temp</th>\n",
       "      <th>Calories</th>\n",
       "    </tr>\n",
       "  </thead>\n",
       "  <tbody>\n",
       "    <tr>\n",
       "      <th>0</th>\n",
       "      <td>14733363</td>\n",
       "      <td>1</td>\n",
       "      <td>68</td>\n",
       "      <td>190.0</td>\n",
       "      <td>94.0</td>\n",
       "      <td>29.0</td>\n",
       "      <td>105.0</td>\n",
       "      <td>40.8</td>\n",
       "      <td>231.0</td>\n",
       "    </tr>\n",
       "    <tr>\n",
       "      <th>1</th>\n",
       "      <td>14861698</td>\n",
       "      <td>0</td>\n",
       "      <td>20</td>\n",
       "      <td>166.0</td>\n",
       "      <td>60.0</td>\n",
       "      <td>14.0</td>\n",
       "      <td>94.0</td>\n",
       "      <td>40.3</td>\n",
       "      <td>66.0</td>\n",
       "    </tr>\n",
       "    <tr>\n",
       "      <th>2</th>\n",
       "      <td>11179863</td>\n",
       "      <td>1</td>\n",
       "      <td>69</td>\n",
       "      <td>179.0</td>\n",
       "      <td>79.0</td>\n",
       "      <td>5.0</td>\n",
       "      <td>88.0</td>\n",
       "      <td>38.7</td>\n",
       "      <td>26.0</td>\n",
       "    </tr>\n",
       "    <tr>\n",
       "      <th>3</th>\n",
       "      <td>16180408</td>\n",
       "      <td>0</td>\n",
       "      <td>34</td>\n",
       "      <td>179.0</td>\n",
       "      <td>71.0</td>\n",
       "      <td>13.0</td>\n",
       "      <td>100.0</td>\n",
       "      <td>40.5</td>\n",
       "      <td>71.0</td>\n",
       "    </tr>\n",
       "    <tr>\n",
       "      <th>4</th>\n",
       "      <td>17771927</td>\n",
       "      <td>0</td>\n",
       "      <td>27</td>\n",
       "      <td>154.0</td>\n",
       "      <td>58.0</td>\n",
       "      <td>10.0</td>\n",
       "      <td>81.0</td>\n",
       "      <td>39.8</td>\n",
       "      <td>35.0</td>\n",
       "    </tr>\n",
       "    <tr>\n",
       "      <th>...</th>\n",
       "      <td>...</td>\n",
       "      <td>...</td>\n",
       "      <td>...</td>\n",
       "      <td>...</td>\n",
       "      <td>...</td>\n",
       "      <td>...</td>\n",
       "      <td>...</td>\n",
       "      <td>...</td>\n",
       "      <td>...</td>\n",
       "    </tr>\n",
       "    <tr>\n",
       "      <th>14995</th>\n",
       "      <td>15644082</td>\n",
       "      <td>0</td>\n",
       "      <td>20</td>\n",
       "      <td>193.0</td>\n",
       "      <td>86.0</td>\n",
       "      <td>11.0</td>\n",
       "      <td>92.0</td>\n",
       "      <td>40.4</td>\n",
       "      <td>45.0</td>\n",
       "    </tr>\n",
       "    <tr>\n",
       "      <th>14996</th>\n",
       "      <td>17212577</td>\n",
       "      <td>0</td>\n",
       "      <td>27</td>\n",
       "      <td>165.0</td>\n",
       "      <td>65.0</td>\n",
       "      <td>6.0</td>\n",
       "      <td>85.0</td>\n",
       "      <td>39.2</td>\n",
       "      <td>23.0</td>\n",
       "    </tr>\n",
       "    <tr>\n",
       "      <th>14997</th>\n",
       "      <td>17271188</td>\n",
       "      <td>0</td>\n",
       "      <td>43</td>\n",
       "      <td>159.0</td>\n",
       "      <td>58.0</td>\n",
       "      <td>16.0</td>\n",
       "      <td>90.0</td>\n",
       "      <td>40.1</td>\n",
       "      <td>75.0</td>\n",
       "    </tr>\n",
       "    <tr>\n",
       "      <th>14998</th>\n",
       "      <td>18643037</td>\n",
       "      <td>1</td>\n",
       "      <td>78</td>\n",
       "      <td>193.0</td>\n",
       "      <td>97.0</td>\n",
       "      <td>2.0</td>\n",
       "      <td>84.0</td>\n",
       "      <td>38.3</td>\n",
       "      <td>11.0</td>\n",
       "    </tr>\n",
       "    <tr>\n",
       "      <th>14999</th>\n",
       "      <td>11751526</td>\n",
       "      <td>1</td>\n",
       "      <td>63</td>\n",
       "      <td>173.0</td>\n",
       "      <td>79.0</td>\n",
       "      <td>18.0</td>\n",
       "      <td>92.0</td>\n",
       "      <td>40.5</td>\n",
       "      <td>98.0</td>\n",
       "    </tr>\n",
       "  </tbody>\n",
       "</table>\n",
       "<p>15000 rows × 9 columns</p>\n",
       "</div>"
      ],
      "text/plain": [
       "        User_ID  Gender  Age  Height  Weight  Duration  Heart_Rate  Body_Temp  \\\n",
       "0      14733363       1   68   190.0    94.0      29.0       105.0       40.8   \n",
       "1      14861698       0   20   166.0    60.0      14.0        94.0       40.3   \n",
       "2      11179863       1   69   179.0    79.0       5.0        88.0       38.7   \n",
       "3      16180408       0   34   179.0    71.0      13.0       100.0       40.5   \n",
       "4      17771927       0   27   154.0    58.0      10.0        81.0       39.8   \n",
       "...         ...     ...  ...     ...     ...       ...         ...        ...   \n",
       "14995  15644082       0   20   193.0    86.0      11.0        92.0       40.4   \n",
       "14996  17212577       0   27   165.0    65.0       6.0        85.0       39.2   \n",
       "14997  17271188       0   43   159.0    58.0      16.0        90.0       40.1   \n",
       "14998  18643037       1   78   193.0    97.0       2.0        84.0       38.3   \n",
       "14999  11751526       1   63   173.0    79.0      18.0        92.0       40.5   \n",
       "\n",
       "       Calories  \n",
       "0         231.0  \n",
       "1          66.0  \n",
       "2          26.0  \n",
       "3          71.0  \n",
       "4          35.0  \n",
       "...         ...  \n",
       "14995      45.0  \n",
       "14996      23.0  \n",
       "14997      75.0  \n",
       "14998      11.0  \n",
       "14999      98.0  \n",
       "\n",
       "[15000 rows x 9 columns]"
      ]
     },
     "execution_count": 35,
     "metadata": {},
     "output_type": "execute_result"
    }
   ],
   "source": [
    "from sklearn.preprocessing import LabelEncoder\n",
    "le = LabelEncoder()\n",
    "data.Gender = le.fit_transform(data.Gender)\n",
    "data"
   ]
  },
  {
   "cell_type": "code",
   "execution_count": 36,
   "id": "ac63da93",
   "metadata": {
    "execution": {
     "iopub.execute_input": "2021-08-21T11:14:51.021877Z",
     "iopub.status.busy": "2021-08-21T11:14:51.021252Z",
     "iopub.status.idle": "2021-08-21T11:14:51.032239Z",
     "shell.execute_reply": "2021-08-21T11:14:51.032719Z",
     "shell.execute_reply.started": "2021-08-21T11:13:15.384590Z"
    },
    "papermill": {
     "duration": 0.061668,
     "end_time": "2021-08-21T11:14:51.032894",
     "exception": false,
     "start_time": "2021-08-21T11:14:50.971226",
     "status": "completed"
    },
    "tags": []
   },
   "outputs": [
    {
     "data": {
      "text/plain": [
       "((12000, 7), (3000, 7))"
      ]
     },
     "execution_count": 36,
     "metadata": {},
     "output_type": "execute_result"
    }
   ],
   "source": [
    "X = data.drop(['User_ID','Calories'],axis=1,index=None)\n",
    "y = data.drop(['User_ID','Duration'],axis=1)\n",
    "X_train,X_test,y_train,y_test = train_test_split(X,y,test_size=0.2,random_state=42)\n",
    "X_train.shape,X_test.shape"
   ]
  },
  {
   "cell_type": "code",
   "execution_count": 37,
   "id": "367db056",
   "metadata": {
    "execution": {
     "iopub.execute_input": "2021-08-21T11:14:51.125861Z",
     "iopub.status.busy": "2021-08-21T11:14:51.125224Z",
     "iopub.status.idle": "2021-08-21T11:14:51.142852Z",
     "shell.execute_reply": "2021-08-21T11:14:51.142324Z",
     "shell.execute_reply.started": "2021-08-21T11:13:15.401172Z"
    },
    "papermill": {
     "duration": 0.065235,
     "end_time": "2021-08-21T11:14:51.142993",
     "exception": false,
     "start_time": "2021-08-21T11:14:51.077758",
     "status": "completed"
    },
    "tags": []
   },
   "outputs": [
    {
     "data": {
      "text/plain": [
       "0.9953276735893899"
      ]
     },
     "execution_count": 37,
     "metadata": {},
     "output_type": "execute_result"
    }
   ],
   "source": [
    "lr.fit(X_train,y_train)\n",
    "pred = lr.predict(X_test)\n",
    "score = metrics.r2_score(y_test,pred)\n",
    "score"
   ]
  },
  {
   "cell_type": "code",
   "execution_count": 38,
   "id": "2e1c818c",
   "metadata": {
    "execution": {
     "iopub.execute_input": "2021-08-21T11:14:51.239441Z",
     "iopub.status.busy": "2021-08-21T11:14:51.238852Z",
     "iopub.status.idle": "2021-08-21T11:14:51.322539Z",
     "shell.execute_reply": "2021-08-21T11:14:51.321993Z",
     "shell.execute_reply.started": "2021-08-21T11:13:15.424951Z"
    },
    "papermill": {
     "duration": 0.134584,
     "end_time": "2021-08-21T11:14:51.322693",
     "exception": false,
     "start_time": "2021-08-21T11:14:51.188109",
     "status": "completed"
    },
    "tags": []
   },
   "outputs": [
    {
     "data": {
      "text/plain": [
       "0.8864532907236714"
      ]
     },
     "execution_count": 38,
     "metadata": {},
     "output_type": "execute_result"
    }
   ],
   "source": [
    "dt.fit(X_train,y_train)\n",
    "pred1 = dt.predict(X_test)\n",
    "score1 = metrics.r2_score(y_test,pred1)\n",
    "score1"
   ]
  },
  {
   "cell_type": "code",
   "execution_count": 39,
   "id": "95a64903",
   "metadata": {
    "execution": {
     "iopub.execute_input": "2021-08-21T11:14:51.420134Z",
     "iopub.status.busy": "2021-08-21T11:14:51.419515Z",
     "iopub.status.idle": "2021-08-21T11:14:56.057731Z",
     "shell.execute_reply": "2021-08-21T11:14:56.057164Z",
     "shell.execute_reply.started": "2021-08-21T11:13:15.513724Z"
    },
    "papermill": {
     "duration": 4.689951,
     "end_time": "2021-08-21T11:14:56.057864",
     "exception": false,
     "start_time": "2021-08-21T11:14:51.367913",
     "status": "completed"
    },
    "tags": []
   },
   "outputs": [
    {
     "data": {
      "text/plain": [
       "0.9555422375683509"
      ]
     },
     "execution_count": 39,
     "metadata": {},
     "output_type": "execute_result"
    }
   ],
   "source": [
    "rf.fit(X_train,y_train)\n",
    "pred1 = rf.predict(X_test)\n",
    "score1 = metrics.r2_score(y_test,pred1)\n",
    "score1"
   ]
  }
 ],
 "metadata": {
  "kernelspec": {
   "display_name": "Python 3",
   "language": "python",
   "name": "python3"
  },
  "language_info": {
   "codemirror_mode": {
    "name": "ipython",
    "version": 3
   },
   "file_extension": ".py",
   "mimetype": "text/x-python",
   "name": "python",
   "nbconvert_exporter": "python",
   "pygments_lexer": "ipython3",
   "version": "3.7.10"
  },
  "papermill": {
   "default_parameters": {},
   "duration": 22.737566,
   "end_time": "2021-08-21T11:14:57.385023",
   "environment_variables": {},
   "exception": null,
   "input_path": "__notebook__.ipynb",
   "output_path": "__notebook__.ipynb",
   "parameters": {},
   "start_time": "2021-08-21T11:14:34.647457",
   "version": "2.3.3"
  }
 },
 "nbformat": 4,
 "nbformat_minor": 5
}
